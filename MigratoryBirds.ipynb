{
 "cells": [
  {
   "cell_type": "code",
   "execution_count": 3,
   "id": "a6c0fde1",
   "metadata": {},
   "outputs": [],
   "source": [
    "import pandas as pd\n",
    "import datetime\n",
    "import plotly.express as px\n",
    "\n",
    "\n",
    "pd.options.display.max_columns = None"
   ]
  },
  {
   "cell_type": "code",
   "execution_count": 4,
   "id": "886a8af0",
   "metadata": {},
   "outputs": [
    {
     "data": {
      "text/html": [
       "<div>\n",
       "<style scoped>\n",
       "    .dataframe tbody tr th:only-of-type {\n",
       "        vertical-align: middle;\n",
       "    }\n",
       "\n",
       "    .dataframe tbody tr th {\n",
       "        vertical-align: top;\n",
       "    }\n",
       "\n",
       "    .dataframe thead th {\n",
       "        text-align: right;\n",
       "    }\n",
       "</style>\n",
       "<table border=\"1\" class=\"dataframe\">\n",
       "  <thead>\n",
       "    <tr style=\"text-align: right;\">\n",
       "      <th></th>\n",
       "      <th>gbifID</th>\n",
       "      <th>datasetKey</th>\n",
       "      <th>occurrenceID</th>\n",
       "      <th>kingdom</th>\n",
       "      <th>phylum</th>\n",
       "      <th>class</th>\n",
       "      <th>order</th>\n",
       "      <th>family</th>\n",
       "      <th>genus</th>\n",
       "      <th>species</th>\n",
       "      <th>infraspecificEpithet</th>\n",
       "      <th>taxonRank</th>\n",
       "      <th>scientificName</th>\n",
       "      <th>verbatimScientificName</th>\n",
       "      <th>verbatimScientificNameAuthorship</th>\n",
       "      <th>countryCode</th>\n",
       "      <th>locality</th>\n",
       "      <th>stateProvince</th>\n",
       "      <th>occurrenceStatus</th>\n",
       "      <th>individualCount</th>\n",
       "      <th>publishingOrgKey</th>\n",
       "      <th>decimalLatitude</th>\n",
       "      <th>decimalLongitude</th>\n",
       "      <th>coordinateUncertaintyInMeters</th>\n",
       "      <th>coordinatePrecision</th>\n",
       "      <th>elevation</th>\n",
       "      <th>elevationAccuracy</th>\n",
       "      <th>depth</th>\n",
       "      <th>depthAccuracy</th>\n",
       "      <th>eventDate</th>\n",
       "      <th>day</th>\n",
       "      <th>month</th>\n",
       "      <th>year</th>\n",
       "      <th>taxonKey</th>\n",
       "      <th>speciesKey</th>\n",
       "      <th>basisOfRecord</th>\n",
       "      <th>institutionCode</th>\n",
       "      <th>collectionCode</th>\n",
       "      <th>catalogNumber</th>\n",
       "      <th>recordNumber</th>\n",
       "      <th>identifiedBy</th>\n",
       "      <th>dateIdentified</th>\n",
       "      <th>license</th>\n",
       "      <th>rightsHolder</th>\n",
       "      <th>recordedBy</th>\n",
       "      <th>typeStatus</th>\n",
       "      <th>establishmentMeans</th>\n",
       "      <th>lastInterpreted</th>\n",
       "      <th>mediaType</th>\n",
       "      <th>issue</th>\n",
       "    </tr>\n",
       "  </thead>\n",
       "  <tbody>\n",
       "    <tr>\n",
       "      <th>0</th>\n",
       "      <td>3695085929</td>\n",
       "      <td>4fa7b334-ce0d-4e88-aaae-2e0c138d049e</td>\n",
       "      <td>URN:catalog:CLO:EBIRD:OBS1316034146</td>\n",
       "      <td>Animalia</td>\n",
       "      <td>Chordata</td>\n",
       "      <td>Aves</td>\n",
       "      <td>Passeriformes</td>\n",
       "      <td>Hirundinidae</td>\n",
       "      <td>Hirundo</td>\n",
       "      <td>Hirundo rustica</td>\n",
       "      <td>NaN</td>\n",
       "      <td>SPECIES</td>\n",
       "      <td>Hirundo rustica Linnaeus, 1758</td>\n",
       "      <td>Hirundo rustica</td>\n",
       "      <td>NaN</td>\n",
       "      <td>CO</td>\n",
       "      <td>Topocoro Dam</td>\n",
       "      <td>Santander</td>\n",
       "      <td>PRESENT</td>\n",
       "      <td>NaN</td>\n",
       "      <td>e2e717bf-551a-4917-bdc9-4fa0f342c530</td>\n",
       "      <td>7.04717</td>\n",
       "      <td>-73.35864</td>\n",
       "      <td>NaN</td>\n",
       "      <td>NaN</td>\n",
       "      <td>NaN</td>\n",
       "      <td>NaN</td>\n",
       "      <td>NaN</td>\n",
       "      <td>NaN</td>\n",
       "      <td>2021-11-20</td>\n",
       "      <td>20</td>\n",
       "      <td>11</td>\n",
       "      <td>2021</td>\n",
       "      <td>9515886</td>\n",
       "      <td>9515886</td>\n",
       "      <td>HUMAN_OBSERVATION</td>\n",
       "      <td>CLO</td>\n",
       "      <td>EBIRD</td>\n",
       "      <td>OBS1316034146</td>\n",
       "      <td>NaN</td>\n",
       "      <td>NaN</td>\n",
       "      <td>NaN</td>\n",
       "      <td>CC_BY_4_0</td>\n",
       "      <td>NaN</td>\n",
       "      <td>obsr37758</td>\n",
       "      <td>NaN</td>\n",
       "      <td>NaN</td>\n",
       "      <td>2023-01-24T15:15:32.469Z</td>\n",
       "      <td>NaN</td>\n",
       "      <td>CONTINENT_DERIVED_FROM_COORDINATES</td>\n",
       "    </tr>\n",
       "  </tbody>\n",
       "</table>\n",
       "</div>"
      ],
      "text/plain": [
       "       gbifID                            datasetKey  \\\n",
       "0  3695085929  4fa7b334-ce0d-4e88-aaae-2e0c138d049e   \n",
       "\n",
       "                          occurrenceID   kingdom    phylum class  \\\n",
       "0  URN:catalog:CLO:EBIRD:OBS1316034146  Animalia  Chordata  Aves   \n",
       "\n",
       "           order        family    genus          species  \\\n",
       "0  Passeriformes  Hirundinidae  Hirundo  Hirundo rustica   \n",
       "\n",
       "   infraspecificEpithet taxonRank                  scientificName  \\\n",
       "0                   NaN   SPECIES  Hirundo rustica Linnaeus, 1758   \n",
       "\n",
       "  verbatimScientificName  verbatimScientificNameAuthorship countryCode  \\\n",
       "0        Hirundo rustica                               NaN          CO   \n",
       "\n",
       "       locality stateProvince occurrenceStatus  individualCount  \\\n",
       "0  Topocoro Dam     Santander          PRESENT              NaN   \n",
       "\n",
       "                       publishingOrgKey  decimalLatitude  decimalLongitude  \\\n",
       "0  e2e717bf-551a-4917-bdc9-4fa0f342c530          7.04717         -73.35864   \n",
       "\n",
       "   coordinateUncertaintyInMeters  coordinatePrecision  elevation  \\\n",
       "0                            NaN                  NaN        NaN   \n",
       "\n",
       "   elevationAccuracy  depth  depthAccuracy  eventDate  day  month  year  \\\n",
       "0                NaN    NaN            NaN 2021-11-20   20     11  2021   \n",
       "\n",
       "   taxonKey  speciesKey      basisOfRecord institutionCode collectionCode  \\\n",
       "0   9515886     9515886  HUMAN_OBSERVATION             CLO          EBIRD   \n",
       "\n",
       "   catalogNumber  recordNumber  identifiedBy  dateIdentified    license  \\\n",
       "0  OBS1316034146           NaN           NaN             NaN  CC_BY_4_0   \n",
       "\n",
       "   rightsHolder recordedBy  typeStatus  establishmentMeans  \\\n",
       "0           NaN  obsr37758         NaN                 NaN   \n",
       "\n",
       "            lastInterpreted  mediaType                               issue  \n",
       "0  2023-01-24T15:15:32.469Z        NaN  CONTINENT_DERIVED_FROM_COORDINATES  "
      ]
     },
     "execution_count": 4,
     "metadata": {},
     "output_type": "execute_result"
    }
   ],
   "source": [
    "df = pd.read_excel('data/raw/MigratoryBirds.xlsx')\n",
    "df.head(1)"
   ]
  },
  {
   "cell_type": "code",
   "execution_count": 5,
   "id": "edfcffa7",
   "metadata": {},
   "outputs": [
    {
     "data": {
      "text/html": [
       "<div>\n",
       "<style scoped>\n",
       "    .dataframe tbody tr th:only-of-type {\n",
       "        vertical-align: middle;\n",
       "    }\n",
       "\n",
       "    .dataframe tbody tr th {\n",
       "        vertical-align: top;\n",
       "    }\n",
       "\n",
       "    .dataframe thead th {\n",
       "        text-align: right;\n",
       "    }\n",
       "</style>\n",
       "<table border=\"1\" class=\"dataframe\">\n",
       "  <thead>\n",
       "    <tr style=\"text-align: right;\">\n",
       "      <th></th>\n",
       "      <th>gbifID</th>\n",
       "      <th>infraspecificEpithet</th>\n",
       "      <th>verbatimScientificNameAuthorship</th>\n",
       "      <th>individualCount</th>\n",
       "      <th>decimalLatitude</th>\n",
       "      <th>decimalLongitude</th>\n",
       "      <th>coordinateUncertaintyInMeters</th>\n",
       "      <th>coordinatePrecision</th>\n",
       "      <th>elevation</th>\n",
       "      <th>elevationAccuracy</th>\n",
       "      <th>depth</th>\n",
       "      <th>depthAccuracy</th>\n",
       "      <th>day</th>\n",
       "      <th>month</th>\n",
       "      <th>year</th>\n",
       "      <th>taxonKey</th>\n",
       "      <th>speciesKey</th>\n",
       "      <th>recordNumber</th>\n",
       "      <th>identifiedBy</th>\n",
       "      <th>dateIdentified</th>\n",
       "      <th>rightsHolder</th>\n",
       "      <th>typeStatus</th>\n",
       "      <th>establishmentMeans</th>\n",
       "      <th>mediaType</th>\n",
       "    </tr>\n",
       "  </thead>\n",
       "  <tbody>\n",
       "    <tr>\n",
       "      <th>count</th>\n",
       "      <td>6.874000e+03</td>\n",
       "      <td>0.0</td>\n",
       "      <td>0.0</td>\n",
       "      <td>6721.000000</td>\n",
       "      <td>6874.000000</td>\n",
       "      <td>6874.000000</td>\n",
       "      <td>0.0</td>\n",
       "      <td>0.0</td>\n",
       "      <td>0.0</td>\n",
       "      <td>0.0</td>\n",
       "      <td>0.0</td>\n",
       "      <td>0.0</td>\n",
       "      <td>6874.000000</td>\n",
       "      <td>6874.000000</td>\n",
       "      <td>6874.0</td>\n",
       "      <td>6.874000e+03</td>\n",
       "      <td>6.874000e+03</td>\n",
       "      <td>0.0</td>\n",
       "      <td>0.0</td>\n",
       "      <td>0.0</td>\n",
       "      <td>0.0</td>\n",
       "      <td>0.0</td>\n",
       "      <td>0.0</td>\n",
       "      <td>0.0</td>\n",
       "    </tr>\n",
       "    <tr>\n",
       "      <th>mean</th>\n",
       "      <td>3.603274e+09</td>\n",
       "      <td>NaN</td>\n",
       "      <td>NaN</td>\n",
       "      <td>4.630710</td>\n",
       "      <td>20.890682</td>\n",
       "      <td>-667.666144</td>\n",
       "      <td>NaN</td>\n",
       "      <td>NaN</td>\n",
       "      <td>NaN</td>\n",
       "      <td>NaN</td>\n",
       "      <td>NaN</td>\n",
       "      <td>NaN</td>\n",
       "      <td>15.117399</td>\n",
       "      <td>7.213122</td>\n",
       "      <td>2021.0</td>\n",
       "      <td>6.882959e+06</td>\n",
       "      <td>6.882959e+06</td>\n",
       "      <td>NaN</td>\n",
       "      <td>NaN</td>\n",
       "      <td>NaN</td>\n",
       "      <td>NaN</td>\n",
       "      <td>NaN</td>\n",
       "      <td>NaN</td>\n",
       "      <td>NaN</td>\n",
       "    </tr>\n",
       "    <tr>\n",
       "      <th>std</th>\n",
       "      <td>5.752956e+07</td>\n",
       "      <td>NaN</td>\n",
       "      <td>NaN</td>\n",
       "      <td>16.982455</td>\n",
       "      <td>314.396141</td>\n",
       "      <td>6663.511238</td>\n",
       "      <td>NaN</td>\n",
       "      <td>NaN</td>\n",
       "      <td>NaN</td>\n",
       "      <td>NaN</td>\n",
       "      <td>NaN</td>\n",
       "      <td>NaN</td>\n",
       "      <td>8.634741</td>\n",
       "      <td>4.148010</td>\n",
       "      <td>0.0</td>\n",
       "      <td>1.901678e+06</td>\n",
       "      <td>1.901678e+06</td>\n",
       "      <td>NaN</td>\n",
       "      <td>NaN</td>\n",
       "      <td>NaN</td>\n",
       "      <td>NaN</td>\n",
       "      <td>NaN</td>\n",
       "      <td>NaN</td>\n",
       "      <td>NaN</td>\n",
       "    </tr>\n",
       "    <tr>\n",
       "      <th>min</th>\n",
       "      <td>2.052762e+09</td>\n",
       "      <td>NaN</td>\n",
       "      <td>NaN</td>\n",
       "      <td>1.000000</td>\n",
       "      <td>-4.207505</td>\n",
       "      <td>-81356.000000</td>\n",
       "      <td>NaN</td>\n",
       "      <td>NaN</td>\n",
       "      <td>NaN</td>\n",
       "      <td>NaN</td>\n",
       "      <td>NaN</td>\n",
       "      <td>NaN</td>\n",
       "      <td>1.000000</td>\n",
       "      <td>1.000000</td>\n",
       "      <td>2021.0</td>\n",
       "      <td>2.487426e+06</td>\n",
       "      <td>2.487426e+06</td>\n",
       "      <td>NaN</td>\n",
       "      <td>NaN</td>\n",
       "      <td>NaN</td>\n",
       "      <td>NaN</td>\n",
       "      <td>NaN</td>\n",
       "      <td>NaN</td>\n",
       "      <td>NaN</td>\n",
       "    </tr>\n",
       "    <tr>\n",
       "      <th>25%</th>\n",
       "      <td>3.559718e+09</td>\n",
       "      <td>NaN</td>\n",
       "      <td>NaN</td>\n",
       "      <td>1.000000</td>\n",
       "      <td>4.357282</td>\n",
       "      <td>-75.947750</td>\n",
       "      <td>NaN</td>\n",
       "      <td>NaN</td>\n",
       "      <td>NaN</td>\n",
       "      <td>NaN</td>\n",
       "      <td>NaN</td>\n",
       "      <td>NaN</td>\n",
       "      <td>8.000000</td>\n",
       "      <td>3.000000</td>\n",
       "      <td>2021.0</td>\n",
       "      <td>6.091946e+06</td>\n",
       "      <td>6.091946e+06</td>\n",
       "      <td>NaN</td>\n",
       "      <td>NaN</td>\n",
       "      <td>NaN</td>\n",
       "      <td>NaN</td>\n",
       "      <td>NaN</td>\n",
       "      <td>NaN</td>\n",
       "      <td>NaN</td>\n",
       "    </tr>\n",
       "    <tr>\n",
       "      <th>50%</th>\n",
       "      <td>3.601295e+09</td>\n",
       "      <td>NaN</td>\n",
       "      <td>NaN</td>\n",
       "      <td>1.000000</td>\n",
       "      <td>4.946208</td>\n",
       "      <td>-75.455894</td>\n",
       "      <td>NaN</td>\n",
       "      <td>NaN</td>\n",
       "      <td>NaN</td>\n",
       "      <td>NaN</td>\n",
       "      <td>NaN</td>\n",
       "      <td>NaN</td>\n",
       "      <td>14.000000</td>\n",
       "      <td>10.000000</td>\n",
       "      <td>2021.0</td>\n",
       "      <td>6.091946e+06</td>\n",
       "      <td>6.091946e+06</td>\n",
       "      <td>NaN</td>\n",
       "      <td>NaN</td>\n",
       "      <td>NaN</td>\n",
       "      <td>NaN</td>\n",
       "      <td>NaN</td>\n",
       "      <td>NaN</td>\n",
       "      <td>NaN</td>\n",
       "    </tr>\n",
       "    <tr>\n",
       "      <th>75%</th>\n",
       "      <td>3.652235e+09</td>\n",
       "      <td>NaN</td>\n",
       "      <td>NaN</td>\n",
       "      <td>3.000000</td>\n",
       "      <td>5.789457</td>\n",
       "      <td>-74.158730</td>\n",
       "      <td>NaN</td>\n",
       "      <td>NaN</td>\n",
       "      <td>NaN</td>\n",
       "      <td>NaN</td>\n",
       "      <td>NaN</td>\n",
       "      <td>NaN</td>\n",
       "      <td>23.000000</td>\n",
       "      <td>11.000000</td>\n",
       "      <td>2021.0</td>\n",
       "      <td>9.515886e+06</td>\n",
       "      <td>9.515886e+06</td>\n",
       "      <td>NaN</td>\n",
       "      <td>NaN</td>\n",
       "      <td>NaN</td>\n",
       "      <td>NaN</td>\n",
       "      <td>NaN</td>\n",
       "      <td>NaN</td>\n",
       "      <td>NaN</td>\n",
       "    </tr>\n",
       "    <tr>\n",
       "      <th>max</th>\n",
       "      <td>3.695086e+09</td>\n",
       "      <td>NaN</td>\n",
       "      <td>NaN</td>\n",
       "      <td>463.000000</td>\n",
       "      <td>13353.000000</td>\n",
       "      <td>-67.074790</td>\n",
       "      <td>NaN</td>\n",
       "      <td>NaN</td>\n",
       "      <td>NaN</td>\n",
       "      <td>NaN</td>\n",
       "      <td>NaN</td>\n",
       "      <td>NaN</td>\n",
       "      <td>31.000000</td>\n",
       "      <td>12.000000</td>\n",
       "      <td>2021.0</td>\n",
       "      <td>9.515886e+06</td>\n",
       "      <td>9.515886e+06</td>\n",
       "      <td>NaN</td>\n",
       "      <td>NaN</td>\n",
       "      <td>NaN</td>\n",
       "      <td>NaN</td>\n",
       "      <td>NaN</td>\n",
       "      <td>NaN</td>\n",
       "      <td>NaN</td>\n",
       "    </tr>\n",
       "  </tbody>\n",
       "</table>\n",
       "</div>"
      ],
      "text/plain": [
       "             gbifID  infraspecificEpithet  verbatimScientificNameAuthorship  \\\n",
       "count  6.874000e+03                   0.0                               0.0   \n",
       "mean   3.603274e+09                   NaN                               NaN   \n",
       "std    5.752956e+07                   NaN                               NaN   \n",
       "min    2.052762e+09                   NaN                               NaN   \n",
       "25%    3.559718e+09                   NaN                               NaN   \n",
       "50%    3.601295e+09                   NaN                               NaN   \n",
       "75%    3.652235e+09                   NaN                               NaN   \n",
       "max    3.695086e+09                   NaN                               NaN   \n",
       "\n",
       "       individualCount  decimalLatitude  decimalLongitude  \\\n",
       "count      6721.000000      6874.000000       6874.000000   \n",
       "mean          4.630710        20.890682       -667.666144   \n",
       "std          16.982455       314.396141       6663.511238   \n",
       "min           1.000000        -4.207505     -81356.000000   \n",
       "25%           1.000000         4.357282        -75.947750   \n",
       "50%           1.000000         4.946208        -75.455894   \n",
       "75%           3.000000         5.789457        -74.158730   \n",
       "max         463.000000     13353.000000        -67.074790   \n",
       "\n",
       "       coordinateUncertaintyInMeters  coordinatePrecision  elevation  \\\n",
       "count                            0.0                  0.0        0.0   \n",
       "mean                             NaN                  NaN        NaN   \n",
       "std                              NaN                  NaN        NaN   \n",
       "min                              NaN                  NaN        NaN   \n",
       "25%                              NaN                  NaN        NaN   \n",
       "50%                              NaN                  NaN        NaN   \n",
       "75%                              NaN                  NaN        NaN   \n",
       "max                              NaN                  NaN        NaN   \n",
       "\n",
       "       elevationAccuracy  depth  depthAccuracy          day        month  \\\n",
       "count                0.0    0.0            0.0  6874.000000  6874.000000   \n",
       "mean                 NaN    NaN            NaN    15.117399     7.213122   \n",
       "std                  NaN    NaN            NaN     8.634741     4.148010   \n",
       "min                  NaN    NaN            NaN     1.000000     1.000000   \n",
       "25%                  NaN    NaN            NaN     8.000000     3.000000   \n",
       "50%                  NaN    NaN            NaN    14.000000    10.000000   \n",
       "75%                  NaN    NaN            NaN    23.000000    11.000000   \n",
       "max                  NaN    NaN            NaN    31.000000    12.000000   \n",
       "\n",
       "         year      taxonKey    speciesKey  recordNumber  identifiedBy  \\\n",
       "count  6874.0  6.874000e+03  6.874000e+03           0.0           0.0   \n",
       "mean   2021.0  6.882959e+06  6.882959e+06           NaN           NaN   \n",
       "std       0.0  1.901678e+06  1.901678e+06           NaN           NaN   \n",
       "min    2021.0  2.487426e+06  2.487426e+06           NaN           NaN   \n",
       "25%    2021.0  6.091946e+06  6.091946e+06           NaN           NaN   \n",
       "50%    2021.0  6.091946e+06  6.091946e+06           NaN           NaN   \n",
       "75%    2021.0  9.515886e+06  9.515886e+06           NaN           NaN   \n",
       "max    2021.0  9.515886e+06  9.515886e+06           NaN           NaN   \n",
       "\n",
       "       dateIdentified  rightsHolder  typeStatus  establishmentMeans  mediaType  \n",
       "count             0.0           0.0         0.0                 0.0        0.0  \n",
       "mean              NaN           NaN         NaN                 NaN        NaN  \n",
       "std               NaN           NaN         NaN                 NaN        NaN  \n",
       "min               NaN           NaN         NaN                 NaN        NaN  \n",
       "25%               NaN           NaN         NaN                 NaN        NaN  \n",
       "50%               NaN           NaN         NaN                 NaN        NaN  \n",
       "75%               NaN           NaN         NaN                 NaN        NaN  \n",
       "max               NaN           NaN         NaN                 NaN        NaN  "
      ]
     },
     "execution_count": 5,
     "metadata": {},
     "output_type": "execute_result"
    }
   ],
   "source": [
    "df.describe()"
   ]
  },
  {
   "cell_type": "code",
   "execution_count": 6,
   "id": "399a833c",
   "metadata": {},
   "outputs": [
    {
     "data": {
      "text/plain": [
       "array(['Hirundo rustica', 'Cardellina canadensis', 'Vireo flavoviridis'],\n",
       "      dtype=object)"
      ]
     },
     "execution_count": 6,
     "metadata": {},
     "output_type": "execute_result"
    }
   ],
   "source": [
    "df.verbatimScientificName.unique()"
   ]
  },
  {
   "cell_type": "code",
   "execution_count": 7,
   "id": "8bf45d63",
   "metadata": {},
   "outputs": [
    {
     "name": "stdout",
     "output_type": "stream",
     "text": [
      "['gbifID', 'datasetKey', 'occurrenceID', 'kingdom', 'phylum', 'class', 'order', 'family', 'genus', 'species', 'infraspecificEpithet', 'taxonRank', 'scientificName', 'verbatimScientificName', 'verbatimScientificNameAuthorship', 'countryCode', 'locality', 'stateProvince', 'occurrenceStatus', 'individualCount', 'publishingOrgKey', 'decimalLatitude', 'decimalLongitude', 'coordinateUncertaintyInMeters', 'coordinatePrecision', 'elevation', 'elevationAccuracy', 'depth', 'depthAccuracy', 'eventDate', 'day', 'month', 'year', 'taxonKey', 'speciesKey', 'basisOfRecord', 'institutionCode', 'collectionCode', 'catalogNumber', 'recordNumber', 'identifiedBy', 'dateIdentified', 'license', 'rightsHolder', 'recordedBy', 'typeStatus', 'establishmentMeans', 'lastInterpreted', 'mediaType', 'issue']\n"
     ]
    }
   ],
   "source": [
    "print(df.columns.to_list())"
   ]
  },
  {
   "cell_type": "code",
   "execution_count": 64,
   "id": "7bf53438",
   "metadata": {},
   "outputs": [],
   "source": [
    "columns_names=['verbatimScientificName','individualCount', 'decimalLatitude', 'decimalLongitude', 'eventDate', 'day', 'month', 'year']"
   ]
  },
  {
   "cell_type": "code",
   "execution_count": 65,
   "id": "b2a13507",
   "metadata": {},
   "outputs": [],
   "source": [
    "df2 =df[columns_names]"
   ]
  },
  {
   "cell_type": "code",
   "execution_count": 66,
   "id": "099be8b6",
   "metadata": {},
   "outputs": [
    {
     "name": "stdout",
     "output_type": "stream",
     "text": [
      "<class 'pandas.core.frame.DataFrame'>\n",
      "RangeIndex: 6874 entries, 0 to 6873\n",
      "Data columns (total 8 columns):\n",
      " #   Column                  Non-Null Count  Dtype         \n",
      "---  ------                  --------------  -----         \n",
      " 0   verbatimScientificName  6874 non-null   object        \n",
      " 1   individualCount         6721 non-null   float64       \n",
      " 2   decimalLatitude         6874 non-null   float64       \n",
      " 3   decimalLongitude        6874 non-null   float64       \n",
      " 4   eventDate               6874 non-null   datetime64[ns]\n",
      " 5   day                     6874 non-null   int64         \n",
      " 6   month                   6874 non-null   int64         \n",
      " 7   year                    6874 non-null   int64         \n",
      "dtypes: datetime64[ns](1), float64(3), int64(3), object(1)\n",
      "memory usage: 429.8+ KB\n"
     ]
    }
   ],
   "source": [
    "df2.info()"
   ]
  },
  {
   "cell_type": "code",
   "execution_count": 68,
   "id": "498687e1",
   "metadata": {},
   "outputs": [
    {
     "data": {
      "text/plain": [
       "array([ nan,   1.,   2.,   3.,   4.,  42.,  10.,   6.,  20.,   8.,   9.,\n",
       "         5.,  14.,   7.,  27.,  58.,  15.,  12.,  11.,  38.,  21.,  16.,\n",
       "        18.,  83.,  40., 200., 300.,  30.,  23.,  34.,  25.,  22.,  19.,\n",
       "        55.,  60., 110., 115.,  26.,  47., 155.,  50., 150.,  17.,  49.,\n",
       "        43.,  37.,  28.,  76., 100.,  36.,  82.,  24., 101.,  13.,  56.,\n",
       "        45., 117.,  29.,  65.,  67., 400., 130., 463.,  84., 125.,  46.,\n",
       "        41.,  70., 120.,  31.,  35.,  33.,  68., 129.,  69., 140.])"
      ]
     },
     "execution_count": 68,
     "metadata": {},
     "output_type": "execute_result"
    }
   ],
   "source": [
    "df2.individualCount.unique()\n"
   ]
  },
  {
   "cell_type": "code",
   "execution_count": 69,
   "id": "63ab86c9",
   "metadata": {},
   "outputs": [
    {
     "name": "stderr",
     "output_type": "stream",
     "text": [
      "/tmp/ipykernel_2700/3294316355.py:1: SettingWithCopyWarning:\n",
      "\n",
      "\n",
      "A value is trying to be set on a copy of a slice from a DataFrame.\n",
      "Try using .loc[row_indexer,col_indexer] = value instead\n",
      "\n",
      "See the caveats in the documentation: https://pandas.pydata.org/pandas-docs/stable/user_guide/indexing.html#returning-a-view-versus-a-copy\n",
      "\n"
     ]
    }
   ],
   "source": [
    "df2['individualCount']=df2['individualCount'].fillna(0)"
   ]
  },
  {
   "cell_type": "code",
   "execution_count": 70,
   "id": "669b245b",
   "metadata": {},
   "outputs": [
    {
     "data": {
      "text/plain": [
       "array([  0.,   1.,   2.,   3.,   4.,  42.,  10.,   6.,  20.,   8.,   9.,\n",
       "         5.,  14.,   7.,  27.,  58.,  15.,  12.,  11.,  38.,  21.,  16.,\n",
       "        18.,  83.,  40., 200., 300.,  30.,  23.,  34.,  25.,  22.,  19.,\n",
       "        55.,  60., 110., 115.,  26.,  47., 155.,  50., 150.,  17.,  49.,\n",
       "        43.,  37.,  28.,  76., 100.,  36.,  82.,  24., 101.,  13.,  56.,\n",
       "        45., 117.,  29.,  65.,  67., 400., 130., 463.,  84., 125.,  46.,\n",
       "        41.,  70., 120.,  31.,  35.,  33.,  68., 129.,  69., 140.])"
      ]
     },
     "execution_count": 70,
     "metadata": {},
     "output_type": "execute_result"
    }
   ],
   "source": [
    "df2.individualCount.unique()"
   ]
  },
  {
   "cell_type": "code",
   "execution_count": 71,
   "id": "77bfafb4",
   "metadata": {},
   "outputs": [],
   "source": [
    "df3 = df2.copy()\n",
    "df3['week_temp'] = df3['eventDate'].dt.strftime(\"%U\")"
   ]
  },
  {
   "cell_type": "code",
   "execution_count": 72,
   "id": "0c427930",
   "metadata": {},
   "outputs": [],
   "source": [
    "df3['week'] = df3['week_temp'].apply(lambda x: int(x.lstrip('0')) if x.lstrip('0').isdigit() else 0)"
   ]
  },
  {
   "cell_type": "code",
   "execution_count": 73,
   "id": "d04add86",
   "metadata": {},
   "outputs": [
    {
     "data": {
      "text/plain": [
       "array([46, 52, 50, 41, 47, 40, 49, 51, 37, 48, 13, 43, 45, 42, 39, 38, 44,\n",
       "       32, 20, 34, 11, 15, 12,  5, 18, 16, 36, 10,  3, 14,  2,  4, 35,  1,\n",
       "        8,  9, 17, 21,  6, 19,  7,  0, 31, 25, 33, 29])"
      ]
     },
     "execution_count": 73,
     "metadata": {},
     "output_type": "execute_result"
    }
   ],
   "source": [
    "df3.week.unique()"
   ]
  },
  {
   "cell_type": "code",
   "execution_count": 74,
   "id": "980c4d42",
   "metadata": {},
   "outputs": [
    {
     "name": "stdout",
     "output_type": "stream",
     "text": [
      "<class 'pandas.core.frame.DataFrame'>\n",
      "RangeIndex: 6874 entries, 0 to 6873\n",
      "Data columns (total 10 columns):\n",
      " #   Column                  Non-Null Count  Dtype         \n",
      "---  ------                  --------------  -----         \n",
      " 0   verbatimScientificName  6874 non-null   object        \n",
      " 1   individualCount         6874 non-null   float64       \n",
      " 2   decimalLatitude         6874 non-null   float64       \n",
      " 3   decimalLongitude        6874 non-null   float64       \n",
      " 4   eventDate               6874 non-null   datetime64[ns]\n",
      " 5   day                     6874 non-null   int64         \n",
      " 6   month                   6874 non-null   int64         \n",
      " 7   year                    6874 non-null   int64         \n",
      " 8   week_temp               6874 non-null   object        \n",
      " 9   week                    6874 non-null   int64         \n",
      "dtypes: datetime64[ns](1), float64(3), int64(4), object(2)\n",
      "memory usage: 537.2+ KB\n"
     ]
    }
   ],
   "source": [
    "df3.info()"
   ]
  },
  {
   "cell_type": "code",
   "execution_count": 75,
   "id": "93ba369a",
   "metadata": {},
   "outputs": [],
   "source": [
    "columns_names.append('week')"
   ]
  },
  {
   "cell_type": "code",
   "execution_count": 76,
   "id": "d9e1cd6d",
   "metadata": {},
   "outputs": [
    {
     "name": "stdout",
     "output_type": "stream",
     "text": [
      "['verbatimScientificName', 'individualCount', 'decimalLatitude', 'decimalLongitude', 'eventDate', 'day', 'month', 'year', 'week']\n"
     ]
    }
   ],
   "source": [
    "print(columns_names)"
   ]
  },
  {
   "cell_type": "code",
   "execution_count": 77,
   "id": "5b85bd10",
   "metadata": {},
   "outputs": [],
   "source": [
    "#df3[columns_names].to_csv('data/df/migratorybirds.csv', index=False)"
   ]
  },
  {
   "attachments": {},
   "cell_type": "markdown",
   "id": "6e609949",
   "metadata": {},
   "source": [
    "### Creating the maps"
   ]
  },
  {
   "cell_type": "code",
   "execution_count": 78,
   "id": "5e63d2b8",
   "metadata": {},
   "outputs": [],
   "source": [
    "df4 = pd.read_csv('data/df/migratorybirds.csv')"
   ]
  },
  {
   "cell_type": "code",
   "execution_count": 79,
   "id": "51b83319",
   "metadata": {},
   "outputs": [
    {
     "data": {
      "text/html": [
       "<div>\n",
       "<style scoped>\n",
       "    .dataframe tbody tr th:only-of-type {\n",
       "        vertical-align: middle;\n",
       "    }\n",
       "\n",
       "    .dataframe tbody tr th {\n",
       "        vertical-align: top;\n",
       "    }\n",
       "\n",
       "    .dataframe thead th {\n",
       "        text-align: right;\n",
       "    }\n",
       "</style>\n",
       "<table border=\"1\" class=\"dataframe\">\n",
       "  <thead>\n",
       "    <tr style=\"text-align: right;\">\n",
       "      <th></th>\n",
       "      <th>verbatimScientificName</th>\n",
       "      <th>individualCount</th>\n",
       "      <th>decimalLatitude</th>\n",
       "      <th>decimalLongitude</th>\n",
       "      <th>eventDate</th>\n",
       "      <th>day</th>\n",
       "      <th>month</th>\n",
       "      <th>year</th>\n",
       "      <th>week</th>\n",
       "    </tr>\n",
       "  </thead>\n",
       "  <tbody>\n",
       "    <tr>\n",
       "      <th>0</th>\n",
       "      <td>Hirundo rustica</td>\n",
       "      <td>0.0</td>\n",
       "      <td>7.04717</td>\n",
       "      <td>-73.35864</td>\n",
       "      <td>2021-11-20</td>\n",
       "      <td>20</td>\n",
       "      <td>11</td>\n",
       "      <td>2021</td>\n",
       "      <td>46</td>\n",
       "    </tr>\n",
       "  </tbody>\n",
       "</table>\n",
       "</div>"
      ],
      "text/plain": [
       "  verbatimScientificName  individualCount  decimalLatitude  decimalLongitude  \\\n",
       "0        Hirundo rustica              0.0          7.04717         -73.35864   \n",
       "\n",
       "    eventDate  day  month  year  week  \n",
       "0  2021-11-20   20     11  2021    46  "
      ]
     },
     "execution_count": 79,
     "metadata": {},
     "output_type": "execute_result"
    }
   ],
   "source": [
    "df4.head(1)"
   ]
  },
  {
   "cell_type": "code",
   "execution_count": 82,
   "id": "119e11df",
   "metadata": {},
   "outputs": [
    {
     "data": {
      "application/vnd.plotly.v1+json": {
       "config": {
        "plotlyServerURL": "https://plot.ly"
       },
       "data": [
        {
         "coloraxis": "coloraxis",
         "hovertemplate": "week=1<br>individualCount=%{z}<br>decimalLatitude=%{lat}<br>decimalLongitude=%{lon}<extra></extra>",
         "lat": [
          4.640633
         ],
         "lon": [
          -75.56674
         ],
         "name": "",
         "radius": 10,
         "subplot": "mapbox",
         "type": "densitymapbox",
         "z": [
          1
         ]
        }
       ],
       "frames": [
        {
         "data": [
          {
           "coloraxis": "coloraxis",
           "hovertemplate": "week=1<br>individualCount=%{z}<br>decimalLatitude=%{lat}<br>decimalLongitude=%{lon}<extra></extra>",
           "lat": [
            4.640633
           ],
           "lon": [
            -75.56674
           ],
           "name": "",
           "radius": 10,
           "subplot": "mapbox",
           "type": "densitymapbox",
           "z": [
            1
           ]
          }
         ],
         "name": "1"
        },
        {
         "data": [
          {
           "coloraxis": "coloraxis",
           "hovertemplate": "week=3<br>individualCount=%{z}<br>decimalLatitude=%{lat}<br>decimalLongitude=%{lon}<extra></extra>",
           "lat": [
            0.796595,
            0.692543,
            0.796595
           ],
           "lon": [
            -76.58933,
            -75.25408,
            -76.58933
           ],
           "name": "",
           "radius": 10,
           "subplot": "mapbox",
           "type": "densitymapbox",
           "z": [
            1,
            1,
            1
           ]
          }
         ],
         "name": "3"
        },
        {
         "data": [
          {
           "coloraxis": "coloraxis",
           "hovertemplate": "week=6<br>individualCount=%{z}<br>decimalLatitude=%{lat}<br>decimalLongitude=%{lon}<extra></extra>",
           "lat": [
            4.512154
           ],
           "lon": [
            -75.71212
           ],
           "name": "",
           "radius": 10,
           "subplot": "mapbox",
           "type": "densitymapbox",
           "z": [
            1
           ]
          }
         ],
         "name": "6"
        },
        {
         "data": [
          {
           "coloraxis": "coloraxis",
           "hovertemplate": "week=7<br>individualCount=%{z}<br>decimalLatitude=%{lat}<br>decimalLongitude=%{lon}<extra></extra>",
           "lat": [
            1.219029,
            1.219029,
            1.138056,
            0.461145,
            0.461145,
            0.461145,
            1.138056,
            0.461145
           ],
           "lon": [
            -70.24424,
            -70.24424,
            -70.11346,
            -76.47708,
            -76.47708,
            -76.47708,
            -70.11346,
            -76.47708
           ],
           "name": "",
           "radius": 10,
           "subplot": "mapbox",
           "type": "densitymapbox",
           "z": [
            1,
            1,
            1,
            1,
            1,
            1,
            1,
            1
           ]
          }
         ],
         "name": "7"
        },
        {
         "data": [
          {
           "coloraxis": "coloraxis",
           "hovertemplate": "week=8<br>individualCount=%{z}<br>decimalLatitude=%{lat}<br>decimalLongitude=%{lon}<extra></extra>",
           "lat": [
            8.005818,
            8.005818,
            8.005818,
            4.578953,
            8.005818,
            8.005818
           ],
           "lon": [
            -76.07563,
            -76.07563,
            -76.07563,
            -75.32526,
            -76.07563,
            -76.07563
           ],
           "name": "",
           "radius": 10,
           "subplot": "mapbox",
           "type": "densitymapbox",
           "z": [
            2,
            2,
            2,
            1,
            2,
            2
           ]
          }
         ],
         "name": "8"
        },
        {
         "data": [
          {
           "coloraxis": "coloraxis",
           "hovertemplate": "week=9<br>individualCount=%{z}<br>decimalLatitude=%{lat}<br>decimalLongitude=%{lon}<extra></extra>",
           "lat": [
            0.29323,
            5.256927,
            3.982431
           ],
           "lon": [
            -76.46327,
            -71.78316,
            -68.18294
           ],
           "name": "",
           "radius": 10,
           "subplot": "mapbox",
           "type": "densitymapbox",
           "z": [
            5,
            1,
            0
           ]
          }
         ],
         "name": "9"
        },
        {
         "data": [
          {
           "coloraxis": "coloraxis",
           "hovertemplate": "week=10<br>individualCount=%{z}<br>decimalLatitude=%{lat}<br>decimalLongitude=%{lon}<extra></extra>",
           "lat": [
            4.64816,
            4.580929,
            4.658577
           ],
           "lon": [
            -74.08665,
            -74.2267,
            -74.09362
           ],
           "name": "",
           "radius": 10,
           "subplot": "mapbox",
           "type": "densitymapbox",
           "z": [
            1,
            1,
            2
           ]
          }
         ],
         "name": "10"
        },
        {
         "data": [
          {
           "coloraxis": "coloraxis",
           "hovertemplate": "week=11<br>individualCount=%{z}<br>decimalLatitude=%{lat}<br>decimalLongitude=%{lon}<extra></extra>",
           "lat": [
            0.523736
           ],
           "lon": [
            -76.31034
           ],
           "name": "",
           "radius": 10,
           "subplot": "mapbox",
           "type": "densitymapbox",
           "z": [
            1
           ]
          }
         ],
         "name": "11"
        },
        {
         "data": [
          {
           "coloraxis": "coloraxis",
           "hovertemplate": "week=12<br>individualCount=%{z}<br>decimalLatitude=%{lat}<br>decimalLongitude=%{lon}<extra></extra>",
           "lat": [
            6.050124,
            6.050124,
            6.050124,
            6.050124,
            6.13936,
            4.612392,
            6.047542,
            4.946208,
            6.225092,
            6.13936,
            6.225092,
            6.225092,
            6.052978,
            4.946208,
            6.13936,
            6.225092,
            4.946208
           ],
           "lon": [
            -74.26246,
            -74.26246,
            -74.26246,
            -74.26246,
            -77.403404,
            -74.36508,
            -74.261986,
            -74.96637,
            -77.41398,
            -77.403404,
            -77.41398,
            -77.41398,
            -74.66438,
            -74.96637,
            -77.403404,
            -77.41398,
            -74.96637
           ],
           "name": "",
           "radius": 10,
           "subplot": "mapbox",
           "type": "densitymapbox",
           "z": [
            1,
            1,
            1,
            1,
            1,
            1,
            1,
            1,
            1,
            1,
            1,
            1,
            1,
            1,
            1,
            1,
            1
           ]
          }
         ],
         "name": "12"
        },
        {
         "data": [
          {
           "coloraxis": "coloraxis",
           "hovertemplate": "week=13<br>individualCount=%{z}<br>decimalLatitude=%{lat}<br>decimalLongitude=%{lon}<extra></extra>",
           "lat": [
            1.07124,
            0.796595,
            0.796595,
            0.796595,
            1.07124,
            4.574029,
            1.08586,
            5.306731,
            4.691485,
            1.023667,
            1.023667
           ],
           "lon": [
            -76.46923,
            -76.58933,
            -76.58933,
            -76.58933,
            -76.46923,
            -75.8491,
            -76.657166,
            -74.921585,
            -74.27727,
            -76.467636,
            -76.467636
           ],
           "name": "",
           "radius": 10,
           "subplot": "mapbox",
           "type": "densitymapbox",
           "z": [
            1,
            2,
            2,
            2,
            1,
            1,
            1,
            2,
            2,
            1,
            1
           ]
          }
         ],
         "name": "13"
        },
        {
         "data": [
          {
           "coloraxis": "coloraxis",
           "hovertemplate": "week=14<br>individualCount=%{z}<br>decimalLatitude=%{lat}<br>decimalLongitude=%{lon}<extra></extra>",
           "lat": [
            1.142843,
            6.339525,
            1.142843,
            4.630538,
            4.630538,
            3.881477,
            1.027444,
            1.142843,
            3.872844,
            1.027444,
            6.298016,
            1.08586,
            3.881477,
            1.142843,
            11.245713,
            11.245713,
            3.918556,
            1.08586
           ],
           "lon": [
            -76.34967,
            -75.56419,
            -76.34967,
            -75.63152,
            -75.63152,
            -73.76626,
            -76.34289,
            -76.34967,
            -73.8316,
            -76.34289,
            -75.58182,
            -76.657166,
            -73.76626,
            -76.34967,
            -73.55385,
            -73.55385,
            -73.832405,
            -76.657166
           ],
           "name": "",
           "radius": 10,
           "subplot": "mapbox",
           "type": "densitymapbox",
           "z": [
            1,
            1,
            1,
            1,
            1,
            0,
            2,
            1,
            0,
            2,
            1,
            1,
            0,
            1,
            0,
            0,
            1,
            1
           ]
          }
         ],
         "name": "14"
        },
        {
         "data": [
          {
           "coloraxis": "coloraxis",
           "hovertemplate": "week=15<br>individualCount=%{z}<br>decimalLatitude=%{lat}<br>decimalLongitude=%{lon}<extra></extra>",
           "lat": [
            6.467833,
            1.220583,
            6.339525,
            6.339525,
            6.214248,
            6.298016,
            1.227579
           ],
           "lon": [
            -75.82833,
            -70.2384,
            -75.56419,
            -75.56419,
            -75.56585,
            -75.58182,
            -70.23739
           ],
           "name": "",
           "radius": 10,
           "subplot": "mapbox",
           "type": "densitymapbox",
           "z": [
            1,
            1,
            1,
            1,
            1,
            1,
            1
           ]
          }
         ],
         "name": "15"
        },
        {
         "data": [
          {
           "coloraxis": "coloraxis",
           "hovertemplate": "week=16<br>individualCount=%{z}<br>decimalLatitude=%{lat}<br>decimalLongitude=%{lon}<extra></extra>",
           "lat": [
            10.746667,
            10.746667,
            6.26504,
            6.339519,
            10.746667,
            10.746667,
            9.375608
           ],
           "lon": [
            -75.02128,
            -75.02128,
            -75.58126,
            -75.56416,
            -75.02128,
            -75.02128,
            -74.41998
           ],
           "name": "",
           "radius": 10,
           "subplot": "mapbox",
           "type": "densitymapbox",
           "z": [
            4,
            1,
            1,
            1,
            1,
            4,
            1
           ]
          }
         ],
         "name": "16"
        },
        {
         "data": [
          {
           "coloraxis": "coloraxis",
           "hovertemplate": "week=17<br>individualCount=%{z}<br>decimalLatitude=%{lat}<br>decimalLongitude=%{lon}<extra></extra>",
           "lat": [
            4.664182,
            4.658577,
            4.058826,
            4.058826,
            10.631234,
            4.285024,
            4.19732,
            4.285024,
            4.664182,
            4.88587
           ],
           "lon": [
            -74.11713,
            -74.09362,
            -73.462776,
            -73.462776,
            -75.1782,
            -73.5077,
            -73.600685,
            -73.5077,
            -74.11713,
            -74.47142
           ],
           "name": "",
           "radius": 10,
           "subplot": "mapbox",
           "type": "densitymapbox",
           "z": [
            3,
            3,
            3,
            3,
            1,
            2,
            3,
            2,
            3,
            1
           ]
          }
         ],
         "name": "17"
        },
        {
         "data": [
          {
           "coloraxis": "coloraxis",
           "hovertemplate": "week=18<br>individualCount=%{z}<br>decimalLatitude=%{lat}<br>decimalLongitude=%{lon}<extra></extra>",
           "lat": [
            4.664182,
            4.720362,
            4.572134,
            4.572134,
            4.931673,
            4.651085,
            4.664182,
            5.634022
           ],
           "lon": [
            -74.11713,
            -74.11196,
            -74.14164,
            -74.14164,
            -74.00784,
            -74.05286,
            -74.11713,
            -73.520096
           ],
           "name": "",
           "radius": 10,
           "subplot": "mapbox",
           "type": "densitymapbox",
           "z": [
            2,
            1,
            2,
            2,
            2,
            1,
            2,
            1
           ]
          }
         ],
         "name": "18"
        },
        {
         "data": [
          {
           "coloraxis": "coloraxis",
           "hovertemplate": "week=19<br>individualCount=%{z}<br>decimalLatitude=%{lat}<br>decimalLongitude=%{lon}<extra></extra>",
           "lat": [
            4.655315,
            1.86475,
            4.658577,
            1.86475,
            4.658577,
            4.761416,
            4.664182,
            4.761416,
            4.658577,
            4.664182,
            4.761416
           ],
           "lon": [
            -74.080986,
            -76.07256,
            -74.09362,
            -76.07256,
            -74.09362,
            -74.1027,
            -74.11713,
            -74.1027,
            -74.09362,
            -74.11713,
            -74.1027
           ],
           "name": "",
           "radius": 10,
           "subplot": "mapbox",
           "type": "densitymapbox",
           "z": [
            5,
            1,
            4,
            1,
            1,
            1,
            1,
            1,
            4,
            1,
            1
           ]
          }
         ],
         "name": "19"
        },
        {
         "data": [
          {
           "coloraxis": "coloraxis",
           "hovertemplate": "week=20<br>individualCount=%{z}<br>decimalLatitude=%{lat}<br>decimalLongitude=%{lon}<extra></extra>",
           "lat": [
            4.720362
           ],
           "lon": [
            -74.11196
           ],
           "name": "",
           "radius": 10,
           "subplot": "mapbox",
           "type": "densitymapbox",
           "z": [
            2
           ]
          }
         ],
         "name": "20"
        },
        {
         "data": [
          {
           "coloraxis": "coloraxis",
           "hovertemplate": "week=35<br>individualCount=%{z}<br>decimalLatitude=%{lat}<br>decimalLongitude=%{lon}<extra></extra>",
           "lat": [
            4.997564,
            10.609403,
            6.471713,
            6.471713,
            6.471713,
            6.471587
           ],
           "lon": [
            -75.55133,
            -75.156815,
            -71.88976,
            -71.88976,
            -71.88976,
            -71.88994
           ],
           "name": "",
           "radius": 10,
           "subplot": "mapbox",
           "type": "densitymapbox",
           "z": [
            1,
            0,
            1,
            1,
            1,
            1
           ]
          }
         ],
         "name": "35"
        },
        {
         "data": [
          {
           "coloraxis": "coloraxis",
           "hovertemplate": "week=36<br>individualCount=%{z}<br>decimalLatitude=%{lat}<br>decimalLongitude=%{lon}<extra></extra>",
           "lat": [
            5.847962,
            5.923714,
            5.917073,
            5.847962,
            11.213112
           ],
           "lon": [
            -76.018555,
            -74.85076,
            -74.85185,
            -76.018555,
            -74.10059
           ],
           "name": "",
           "radius": 10,
           "subplot": "mapbox",
           "type": "densitymapbox",
           "z": [
            1,
            1,
            1,
            1,
            2
           ]
          }
         ],
         "name": "36"
        },
        {
         "data": [
          {
           "coloraxis": "coloraxis",
           "hovertemplate": "week=38<br>individualCount=%{z}<br>decimalLatitude=%{lat}<br>decimalLongitude=%{lon}<extra></extra>",
           "lat": [
            11.300975,
            11.289433,
            5.170425,
            11.247518,
            11.296261,
            11.247518,
            11.300975,
            2.924404,
            10.368273,
            11.301147,
            6.472935,
            2.924404,
            11.265749
           ],
           "lon": [
            -73.9183,
            -73.219406,
            -72.551216,
            -74.06768,
            -73.914085,
            -74.06768,
            -73.9183,
            -75.29778,
            -73.06548,
            -73.91795,
            -71.88855,
            -75.29778,
            -74.06871
           ],
           "name": "",
           "radius": 10,
           "subplot": "mapbox",
           "type": "densitymapbox",
           "z": [
            2,
            1,
            1,
            6,
            2,
            6,
            2,
            1,
            1,
            1,
            1,
            1,
            2
           ]
          }
         ],
         "name": "38"
        },
        {
         "data": [
          {
           "coloraxis": "coloraxis",
           "hovertemplate": "week=39<br>individualCount=%{z}<br>decimalLatitude=%{lat}<br>decimalLongitude=%{lon}<extra></extra>",
           "lat": [
            11.262563,
            2.925833,
            11.286695,
            4.655231,
            4.720362,
            2.924404,
            11.262563,
            11.281894,
            4.664182,
            4.664182,
            11.007175,
            5.292009,
            11.43491,
            11.291472,
            4.612392,
            4.668008,
            11.262563,
            6.340962,
            11.262563,
            7.402413,
            11.43491,
            11.258377,
            11.291472,
            11.262563,
            11.43491,
            11.262563
           ],
           "lon": [
            -73.21968,
            -75.29392,
            -73.219666,
            -74.09474,
            -74.11196,
            -75.29778,
            -73.21968,
            -73.22063,
            -74.11713,
            -74.11713,
            -74.684814,
            -75.109726,
            -73.07337,
            -73.21864,
            -74.36508,
            -74.08802,
            -73.21968,
            -74.71643,
            -73.21968,
            -73.792366,
            -73.07337,
            -73.219154,
            -73.21864,
            -73.21968,
            -73.07337,
            -73.21968
           ],
           "name": "",
           "radius": 10,
           "subplot": "mapbox",
           "type": "densitymapbox",
           "z": [
            1,
            1,
            2,
            6,
            1,
            1,
            1,
            1,
            1,
            1,
            7,
            1,
            1,
            1,
            1,
            2,
            1,
            1,
            1,
            1,
            1,
            1,
            1,
            1,
            1,
            1
           ]
          }
         ],
         "name": "39"
        },
        {
         "data": [
          {
           "coloraxis": "coloraxis",
           "hovertemplate": "week=40<br>individualCount=%{z}<br>decimalLatitude=%{lat}<br>decimalLongitude=%{lon}<extra></extra>",
           "lat": [
            4.941145,
            4.843038,
            1.876899,
            5.064686,
            5.304586,
            4.367564,
            5.029873,
            2.935795,
            4.367564,
            11.260547,
            4.664182,
            4.602942,
            9.93459,
            11.231988,
            10.389701,
            6.492045,
            11.231988,
            2.741736,
            9.93459,
            4.647852,
            5.064686,
            4.843038,
            4.702146,
            7.680363,
            4.658577,
            11.294056,
            11.258377,
            5.304586,
            4.658577,
            4.367564,
            5.064686,
            4.642626,
            2.741736,
            2.741736,
            11.231988,
            5.064686,
            11.022183,
            9.93459,
            11.231988,
            6.492045,
            10.387764,
            7.680363,
            9.935644,
            4.941145,
            11.006118,
            9.935644,
            9.917439,
            11.262741,
            11.292947,
            4.674317,
            11.310002,
            11.260547,
            4.941145,
            9.93459,
            5.064686,
            4.664182,
            10.387764,
            11.22094,
            4.674317,
            9.93459,
            2.741736,
            11.006118,
            4.702146,
            4.941145,
            11.276573,
            5.064686,
            6.492045,
            1.267779,
            5.064686,
            6.492045
           ],
           "lon": [
            -74.005905,
            -75.81861,
            -76.05237,
            -75.59219,
            -74.918076,
            -75.69224,
            -75.41229,
            -75.24706,
            -75.69224,
            -73.21978,
            -74.11713,
            -74.0645,
            -75.11299,
            -74.040985,
            -73.01949,
            -73.22175,
            -74.040985,
            -75.25727,
            -75.11299,
            -74.08659,
            -75.59219,
            -75.81861,
            -74.12683,
            -72.782646,
            -74.09362,
            -73.21847,
            -73.219154,
            -74.918076,
            -74.09362,
            -75.69224,
            -75.59219,
            -74.150604,
            -75.25727,
            -75.25727,
            -74.040985,
            -75.59219,
            -74.890015,
            -75.11299,
            -74.040985,
            -73.22175,
            -73.05606,
            -72.782646,
            -75.12382,
            -74.005905,
            -74.68364,
            -75.12382,
            -75.17211,
            -73.21978,
            -73.217255,
            -74.057014,
            -73.9342,
            -73.21978,
            -74.005905,
            -75.11299,
            -75.59219,
            -74.11713,
            -73.05606,
            -74.10024,
            -74.057014,
            -75.11299,
            -75.25727,
            -74.68364,
            -74.12683,
            -74.005905,
            -73.95014,
            -75.59219,
            -73.22175,
            -70.19468,
            -75.59219,
            -73.22175
           ],
           "name": "",
           "radius": 10,
           "subplot": "mapbox",
           "type": "densitymapbox",
           "z": [
            2,
            2,
            2,
            1,
            1,
            1,
            1,
            1,
            1,
            4,
            1,
            1,
            1,
            1,
            3,
            1,
            1,
            1,
            1,
            3,
            1,
            2,
            1,
            1,
            2,
            3,
            2,
            1,
            1,
            1,
            1,
            1,
            1,
            1,
            1,
            1,
            1,
            3,
            1,
            1,
            2,
            1,
            3,
            2,
            1,
            1,
            2,
            2,
            1,
            1,
            15,
            4,
            2,
            3,
            1,
            1,
            2,
            4,
            1,
            2,
            1,
            1,
            1,
            2,
            6,
            1,
            1,
            4,
            1,
            1
           ]
          }
         ],
         "name": "40"
        },
        {
         "data": [
          {
           "coloraxis": "coloraxis",
           "hovertemplate": "week=41<br>individualCount=%{z}<br>decimalLatitude=%{lat}<br>decimalLongitude=%{lon}<extra></extra>",
           "lat": [
            11.291855,
            4.653688,
            9.935644,
            11.294044,
            11.294044,
            11.254223,
            11.262741,
            4.724291,
            11.289433,
            4.658577,
            4.696168,
            11.173782,
            4.617795,
            11.287928,
            11.291855,
            4.656607,
            11.287928,
            11.279942,
            4.696168,
            9.93459,
            11.286695,
            11.282004,
            11.294044,
            11.294056,
            4.617795,
            4.696168,
            4.674317,
            9.93459,
            4.656607,
            4.674317,
            4.623321,
            10.377812
           ],
           "lon": [
            -73.21853,
            -74.11259,
            -75.12382,
            -73.2185,
            -73.2185,
            -73.22452,
            -73.21978,
            -74.10533,
            -73.219406,
            -74.09362,
            -74.09399,
            -74.1666,
            -74.41777,
            -73.21822,
            -73.21853,
            -74.09746,
            -73.21822,
            -73.22128,
            -74.09399,
            -75.11299,
            -73.219666,
            -73.220634,
            -73.2185,
            -73.21847,
            -74.41777,
            -74.09399,
            -74.057014,
            -75.11299,
            -74.09746,
            -74.057014,
            -75.585594,
            -73.07429
           ],
           "name": "",
           "radius": 10,
           "subplot": "mapbox",
           "type": "densitymapbox",
           "z": [
            1,
            1,
            2,
            2,
            2,
            4,
            2,
            1,
            4,
            1,
            2,
            2,
            1,
            3,
            1,
            1,
            2,
            3,
            2,
            2,
            1,
            2,
            2,
            4,
            1,
            2,
            1,
            2,
            1,
            2,
            1,
            1
           ]
          }
         ],
         "name": "41"
        },
        {
         "data": [
          {
           "coloraxis": "coloraxis",
           "hovertemplate": "week=42<br>individualCount=%{z}<br>decimalLatitude=%{lat}<br>decimalLongitude=%{lon}<extra></extra>",
           "lat": [
            11.43491,
            8.444687,
            5.482658,
            5.948408,
            5.007958,
            11.260777,
            5.482658,
            5.152389,
            11.291472,
            11.279942,
            0.796595,
            6.978024,
            11.260547,
            11.421018,
            4.668008,
            11.299363,
            11.262741,
            10.412095,
            11.287003,
            11.291472,
            0.796595,
            4.660364,
            11.291472,
            4.660364,
            10.412095,
            5.007958,
            11.421018,
            11.43491,
            11.289933,
            8.444687,
            11.287003,
            6.978024,
            4.668008,
            11.260777,
            4.674317,
            11.260777,
            11.260777,
            11.287014,
            4.722935
           ],
           "lon": [
            -73.07337,
            -76.79197,
            -74.17089,
            -74.85932,
            -74.9098,
            -73.2198,
            -74.17089,
            -75.04408,
            -73.21864,
            -73.22128,
            -76.58933,
            -73.4479,
            -73.21978,
            -73.05644,
            -74.08802,
            -73.223404,
            -73.21978,
            -73.58678,
            -73.21971,
            -73.21864,
            -76.58933,
            -75.55548,
            -73.21864,
            -75.55548,
            -73.58678,
            -74.9098,
            -73.05644,
            -73.07337,
            -73.21927,
            -76.79197,
            -73.21971,
            -73.4479,
            -74.08802,
            -73.2198,
            -74.057014,
            -73.2198,
            -73.2198,
            -73.21626,
            -74.14027
           ],
           "name": "",
           "radius": 10,
           "subplot": "mapbox",
           "type": "densitymapbox",
           "z": [
            2,
            4,
            1,
            1,
            2,
            1,
            1,
            1,
            1,
            2,
            1,
            1,
            3,
            1,
            1,
            2,
            3,
            2,
            2,
            1,
            1,
            1,
            1,
            1,
            2,
            2,
            1,
            2,
            2,
            4,
            2,
            1,
            1,
            1,
            1,
            1,
            1,
            1,
            1
           ]
          }
         ],
         "name": "42"
        },
        {
         "data": [
          {
           "coloraxis": "coloraxis",
           "hovertemplate": "week=43<br>individualCount=%{z}<br>decimalLatitude=%{lat}<br>decimalLongitude=%{lon}<extra></extra>",
           "lat": [
            11.291472,
            4.696168,
            4.658577,
            4.658577,
            4.658577,
            4.612392,
            4.524415,
            11.291472,
            11.279942,
            11.262741,
            11.292947,
            2.691084,
            11.292947,
            11.291472,
            4.709425,
            11.291472,
            4.658577,
            11.260547,
            6.852191,
            6.852191,
            11.294056,
            11.291472,
            11.292947,
            11.262741,
            2.695752,
            11.292947,
            4.658577,
            4.658577,
            4.658577,
            5.647046
           ],
           "lon": [
            -73.21864,
            -74.09399,
            -74.09362,
            -74.09362,
            -74.09362,
            -74.36508,
            -74.302345,
            -73.21864,
            -73.22128,
            -73.21978,
            -73.217255,
            -75.31148,
            -73.217255,
            -73.21864,
            -74.11497,
            -73.21864,
            -74.09362,
            -73.21978,
            -73.37682,
            -73.37682,
            -73.21847,
            -73.21864,
            -73.217255,
            -73.21978,
            -75.298134,
            -73.217255,
            -74.09362,
            -74.09362,
            -74.09362,
            -74.00449
           ],
           "name": "",
           "radius": 10,
           "subplot": "mapbox",
           "type": "densitymapbox",
           "z": [
            1,
            2,
            2,
            2,
            2,
            1,
            4,
            1,
            4,
            1,
            1,
            2,
            1,
            1,
            1,
            1,
            2,
            2,
            4,
            4,
            4,
            1,
            1,
            1,
            1,
            1,
            2,
            2,
            2,
            3
           ]
          }
         ],
         "name": "43"
        },
        {
         "data": [
          {
           "coloraxis": "coloraxis",
           "hovertemplate": "week=44<br>individualCount=%{z}<br>decimalLatitude=%{lat}<br>decimalLongitude=%{lon}<extra></extra>",
           "lat": [
            2.769145,
            4.634736,
            4.696168,
            6.540449,
            4.664182,
            3.691976,
            5.839187,
            11.141009,
            -4.202146,
            1.167041,
            5.839187,
            11.263425,
            4.664182,
            -4.202146,
            11.143624,
            4.696168,
            4.696168,
            4.696168
           ],
           "lon": [
            -75.23361,
            -74.0711,
            -74.09399,
            -75.09543,
            -74.11713,
            -73.704056,
            -74.83775,
            -74.1171,
            -69.95933,
            -76.64989,
            -74.83775,
            -73.22013,
            -74.11713,
            -69.95933,
            -74.11687,
            -74.09399,
            -74.09399,
            -74.09399
           ],
           "name": "",
           "radius": 10,
           "subplot": "mapbox",
           "type": "densitymapbox",
           "z": [
            1,
            1,
            1,
            1,
            1,
            3,
            1,
            0,
            1,
            1,
            1,
            1,
            1,
            1,
            2,
            1,
            1,
            1
           ]
          }
         ],
         "name": "44"
        },
        {
         "data": [
          {
           "coloraxis": "coloraxis",
           "hovertemplate": "week=45<br>individualCount=%{z}<br>decimalLatitude=%{lat}<br>decimalLongitude=%{lon}<extra></extra>",
           "lat": [
            4.980222,
            3.941888,
            4.640833,
            4.448667,
            4.448667,
            4.448667,
            4.448667,
            3.995431,
            11.100794,
            4.448667,
            4.448667
           ],
           "lon": [
            -75.33624,
            -73.797356,
            -74.08139,
            -75.16722,
            -75.16722,
            -75.16722,
            -75.16722,
            -73.79707,
            -74.07217,
            -75.16722,
            -75.16722
           ],
           "name": "",
           "radius": 10,
           "subplot": "mapbox",
           "type": "densitymapbox",
           "z": [
            1,
            4,
            2,
            1,
            1,
            1,
            1,
            1,
            1,
            1,
            1
           ]
          }
         ],
         "name": "45"
        },
        {
         "data": [
          {
           "coloraxis": "coloraxis",
           "hovertemplate": "week=46<br>individualCount=%{z}<br>decimalLatitude=%{lat}<br>decimalLongitude=%{lon}<extra></extra>",
           "lat": [
            4.98406,
            5.064686,
            5.064686,
            4.98406,
            5.064686,
            4.98406,
            4.98406,
            5.064686,
            4.98406,
            1.846378,
            4.98406,
            5.035644,
            5.064686,
            4.98406,
            5.064686,
            5.064686,
            4.98406,
            4.98406,
            4.98406
           ],
           "lon": [
            -74.29104,
            -75.59219,
            -75.59219,
            -74.29104,
            -75.59219,
            -74.29104,
            -74.29104,
            -75.59219,
            -74.29104,
            -76.04103,
            -74.29104,
            -75.570435,
            -75.59219,
            -74.29104,
            -75.59219,
            -75.59219,
            -74.29104,
            -74.29104,
            -74.29104
           ],
           "name": "",
           "radius": 10,
           "subplot": "mapbox",
           "type": "densitymapbox",
           "z": [
            1,
            2,
            2,
            1,
            2,
            1,
            1,
            2,
            1,
            2,
            1,
            1,
            2,
            1,
            2,
            2,
            1,
            1,
            1
           ]
          }
         ],
         "name": "46"
        },
        {
         "data": [
          {
           "coloraxis": "coloraxis",
           "hovertemplate": "week=47<br>individualCount=%{z}<br>decimalLatitude=%{lat}<br>decimalLongitude=%{lon}<extra></extra>",
           "lat": [
            1.426616,
            6.554974,
            6.554974,
            6.554974,
            0.796595,
            0.796595
           ],
           "lon": [
            -75.8869,
            -75.83291,
            -75.83291,
            -75.83291,
            -76.58933,
            -76.58933
           ],
           "name": "",
           "radius": 10,
           "subplot": "mapbox",
           "type": "densitymapbox",
           "z": [
            1,
            2,
            2,
            2,
            1,
            1
           ]
          }
         ],
         "name": "47"
        },
        {
         "data": [
          {
           "coloraxis": "coloraxis",
           "hovertemplate": "week=48<br>individualCount=%{z}<br>decimalLatitude=%{lat}<br>decimalLongitude=%{lon}<extra></extra>",
           "lat": [
            5.9712,
            5.9712,
            1.220583,
            5.9712,
            4.43392
           ],
           "lon": [
            -75.83687,
            -75.83687,
            -70.2384,
            -75.83687,
            -75.89074
           ],
           "name": "",
           "radius": 10,
           "subplot": "mapbox",
           "type": "densitymapbox",
           "z": [
            1,
            0,
            4,
            0,
            3
           ]
          }
         ],
         "name": "48"
        },
        {
         "data": [
          {
           "coloraxis": "coloraxis",
           "hovertemplate": "week=49<br>individualCount=%{z}<br>decimalLatitude=%{lat}<br>decimalLongitude=%{lon}<extra></extra>",
           "lat": [
            0.280304,
            0.286872,
            6.554078,
            0.267007,
            0.267007,
            0.249402
           ],
           "lon": [
            -76.55446,
            -76.54335,
            -73.15621,
            -76.549164,
            -76.549164,
            -76.55775
           ],
           "name": "",
           "radius": 10,
           "subplot": "mapbox",
           "type": "densitymapbox",
           "z": [
            1,
            1,
            1,
            3,
            2,
            10
           ]
          }
         ],
         "name": "49"
        },
        {
         "data": [
          {
           "coloraxis": "coloraxis",
           "hovertemplate": "week=50<br>individualCount=%{z}<br>decimalLatitude=%{lat}<br>decimalLongitude=%{lon}<extra></extra>",
           "lat": [
            0.419265,
            0.351085,
            4.638395,
            4.638395,
            0.345124,
            4.638395,
            4.638395,
            0.283919,
            1.167041,
            0.249402,
            4.638395,
            0.341556
           ],
           "lon": [
            -76.58154,
            -76.49756,
            -75.56861,
            -75.56861,
            -76.49276,
            -75.56861,
            -75.56861,
            -76.55892,
            -76.64989,
            -76.55775,
            -75.56861,
            -76.49301
           ],
           "name": "",
           "radius": 10,
           "subplot": "mapbox",
           "type": "densitymapbox",
           "z": [
            1,
            10,
            1,
            1,
            3,
            1,
            1,
            8,
            2,
            1,
            1,
            2
           ]
          }
         ],
         "name": "50"
        },
        {
         "data": [
          {
           "coloraxis": "coloraxis",
           "hovertemplate": "week=51<br>individualCount=%{z}<br>decimalLatitude=%{lat}<br>decimalLongitude=%{lon}<extra></extra>",
           "lat": [
            1.167041,
            1.167041
           ],
           "lon": [
            -76.64989,
            -76.64989
           ],
           "name": "",
           "radius": 10,
           "subplot": "mapbox",
           "type": "densitymapbox",
           "z": [
            1,
            1
           ]
          }
         ],
         "name": "51"
        }
       ],
       "layout": {
        "annotations": [
         {
          "align": "right",
          "bgcolor": "#f9f9f9",
          "font": {
           "color": "#000000"
          },
          "showarrow": false,
          "text": "",
          "x": 0.95,
          "y": 0.95
         }
        ],
        "coloraxis": {
         "colorbar": {
          "title": {
           "text": "individualCount"
          }
         },
         "colorscale": [
          [
           0,
           "#0d0887"
          ],
          [
           0.1111111111111111,
           "#46039f"
          ],
          [
           0.2222222222222222,
           "#7201a8"
          ],
          [
           0.3333333333333333,
           "#9c179e"
          ],
          [
           0.4444444444444444,
           "#bd3786"
          ],
          [
           0.5555555555555556,
           "#d8576b"
          ],
          [
           0.6666666666666666,
           "#ed7953"
          ],
          [
           0.7777777777777778,
           "#fb9f3a"
          ],
          [
           0.8888888888888888,
           "#fdca26"
          ],
          [
           1,
           "#f0f921"
          ]
         ]
        },
        "geo": {
         "scope": "south america"
        },
        "height": 400,
        "legend": {
         "tracegroupgap": 0
        },
        "mapbox": {
         "center": {
          "lat": 4.862437,
          "lon": -74.058655
         },
         "domain": {
          "x": [
           0,
           1
          ],
          "y": [
           0,
           1
          ]
         },
         "style": "carto-positron",
         "zoom": 3.8
        },
        "margin": {
         "b": 0,
         "l": 0,
         "r": 0,
         "t": 0
        },
        "sliders": [
         {
          "active": 0,
          "currentvalue": {
           "prefix": "week="
          },
          "len": 0.9,
          "pad": {
           "b": 10,
           "t": 60
          },
          "steps": [
           {
            "args": [
             [
              "1"
             ],
             {
              "frame": {
               "duration": 0,
               "redraw": true
              },
              "fromcurrent": true,
              "mode": "immediate",
              "transition": {
               "duration": 0,
               "easing": "linear"
              }
             }
            ],
            "label": "1",
            "method": "animate"
           },
           {
            "args": [
             [
              "3"
             ],
             {
              "frame": {
               "duration": 0,
               "redraw": true
              },
              "fromcurrent": true,
              "mode": "immediate",
              "transition": {
               "duration": 0,
               "easing": "linear"
              }
             }
            ],
            "label": "3",
            "method": "animate"
           },
           {
            "args": [
             [
              "6"
             ],
             {
              "frame": {
               "duration": 0,
               "redraw": true
              },
              "fromcurrent": true,
              "mode": "immediate",
              "transition": {
               "duration": 0,
               "easing": "linear"
              }
             }
            ],
            "label": "6",
            "method": "animate"
           },
           {
            "args": [
             [
              "7"
             ],
             {
              "frame": {
               "duration": 0,
               "redraw": true
              },
              "fromcurrent": true,
              "mode": "immediate",
              "transition": {
               "duration": 0,
               "easing": "linear"
              }
             }
            ],
            "label": "7",
            "method": "animate"
           },
           {
            "args": [
             [
              "8"
             ],
             {
              "frame": {
               "duration": 0,
               "redraw": true
              },
              "fromcurrent": true,
              "mode": "immediate",
              "transition": {
               "duration": 0,
               "easing": "linear"
              }
             }
            ],
            "label": "8",
            "method": "animate"
           },
           {
            "args": [
             [
              "9"
             ],
             {
              "frame": {
               "duration": 0,
               "redraw": true
              },
              "fromcurrent": true,
              "mode": "immediate",
              "transition": {
               "duration": 0,
               "easing": "linear"
              }
             }
            ],
            "label": "9",
            "method": "animate"
           },
           {
            "args": [
             [
              "10"
             ],
             {
              "frame": {
               "duration": 0,
               "redraw": true
              },
              "fromcurrent": true,
              "mode": "immediate",
              "transition": {
               "duration": 0,
               "easing": "linear"
              }
             }
            ],
            "label": "10",
            "method": "animate"
           },
           {
            "args": [
             [
              "11"
             ],
             {
              "frame": {
               "duration": 0,
               "redraw": true
              },
              "fromcurrent": true,
              "mode": "immediate",
              "transition": {
               "duration": 0,
               "easing": "linear"
              }
             }
            ],
            "label": "11",
            "method": "animate"
           },
           {
            "args": [
             [
              "12"
             ],
             {
              "frame": {
               "duration": 0,
               "redraw": true
              },
              "fromcurrent": true,
              "mode": "immediate",
              "transition": {
               "duration": 0,
               "easing": "linear"
              }
             }
            ],
            "label": "12",
            "method": "animate"
           },
           {
            "args": [
             [
              "13"
             ],
             {
              "frame": {
               "duration": 0,
               "redraw": true
              },
              "fromcurrent": true,
              "mode": "immediate",
              "transition": {
               "duration": 0,
               "easing": "linear"
              }
             }
            ],
            "label": "13",
            "method": "animate"
           },
           {
            "args": [
             [
              "14"
             ],
             {
              "frame": {
               "duration": 0,
               "redraw": true
              },
              "fromcurrent": true,
              "mode": "immediate",
              "transition": {
               "duration": 0,
               "easing": "linear"
              }
             }
            ],
            "label": "14",
            "method": "animate"
           },
           {
            "args": [
             [
              "15"
             ],
             {
              "frame": {
               "duration": 0,
               "redraw": true
              },
              "fromcurrent": true,
              "mode": "immediate",
              "transition": {
               "duration": 0,
               "easing": "linear"
              }
             }
            ],
            "label": "15",
            "method": "animate"
           },
           {
            "args": [
             [
              "16"
             ],
             {
              "frame": {
               "duration": 0,
               "redraw": true
              },
              "fromcurrent": true,
              "mode": "immediate",
              "transition": {
               "duration": 0,
               "easing": "linear"
              }
             }
            ],
            "label": "16",
            "method": "animate"
           },
           {
            "args": [
             [
              "17"
             ],
             {
              "frame": {
               "duration": 0,
               "redraw": true
              },
              "fromcurrent": true,
              "mode": "immediate",
              "transition": {
               "duration": 0,
               "easing": "linear"
              }
             }
            ],
            "label": "17",
            "method": "animate"
           },
           {
            "args": [
             [
              "18"
             ],
             {
              "frame": {
               "duration": 0,
               "redraw": true
              },
              "fromcurrent": true,
              "mode": "immediate",
              "transition": {
               "duration": 0,
               "easing": "linear"
              }
             }
            ],
            "label": "18",
            "method": "animate"
           },
           {
            "args": [
             [
              "19"
             ],
             {
              "frame": {
               "duration": 0,
               "redraw": true
              },
              "fromcurrent": true,
              "mode": "immediate",
              "transition": {
               "duration": 0,
               "easing": "linear"
              }
             }
            ],
            "label": "19",
            "method": "animate"
           },
           {
            "args": [
             [
              "20"
             ],
             {
              "frame": {
               "duration": 0,
               "redraw": true
              },
              "fromcurrent": true,
              "mode": "immediate",
              "transition": {
               "duration": 0,
               "easing": "linear"
              }
             }
            ],
            "label": "20",
            "method": "animate"
           },
           {
            "args": [
             [
              "35"
             ],
             {
              "frame": {
               "duration": 0,
               "redraw": true
              },
              "fromcurrent": true,
              "mode": "immediate",
              "transition": {
               "duration": 0,
               "easing": "linear"
              }
             }
            ],
            "label": "35",
            "method": "animate"
           },
           {
            "args": [
             [
              "36"
             ],
             {
              "frame": {
               "duration": 0,
               "redraw": true
              },
              "fromcurrent": true,
              "mode": "immediate",
              "transition": {
               "duration": 0,
               "easing": "linear"
              }
             }
            ],
            "label": "36",
            "method": "animate"
           },
           {
            "args": [
             [
              "38"
             ],
             {
              "frame": {
               "duration": 0,
               "redraw": true
              },
              "fromcurrent": true,
              "mode": "immediate",
              "transition": {
               "duration": 0,
               "easing": "linear"
              }
             }
            ],
            "label": "38",
            "method": "animate"
           },
           {
            "args": [
             [
              "39"
             ],
             {
              "frame": {
               "duration": 0,
               "redraw": true
              },
              "fromcurrent": true,
              "mode": "immediate",
              "transition": {
               "duration": 0,
               "easing": "linear"
              }
             }
            ],
            "label": "39",
            "method": "animate"
           },
           {
            "args": [
             [
              "40"
             ],
             {
              "frame": {
               "duration": 0,
               "redraw": true
              },
              "fromcurrent": true,
              "mode": "immediate",
              "transition": {
               "duration": 0,
               "easing": "linear"
              }
             }
            ],
            "label": "40",
            "method": "animate"
           },
           {
            "args": [
             [
              "41"
             ],
             {
              "frame": {
               "duration": 0,
               "redraw": true
              },
              "fromcurrent": true,
              "mode": "immediate",
              "transition": {
               "duration": 0,
               "easing": "linear"
              }
             }
            ],
            "label": "41",
            "method": "animate"
           },
           {
            "args": [
             [
              "42"
             ],
             {
              "frame": {
               "duration": 0,
               "redraw": true
              },
              "fromcurrent": true,
              "mode": "immediate",
              "transition": {
               "duration": 0,
               "easing": "linear"
              }
             }
            ],
            "label": "42",
            "method": "animate"
           },
           {
            "args": [
             [
              "43"
             ],
             {
              "frame": {
               "duration": 0,
               "redraw": true
              },
              "fromcurrent": true,
              "mode": "immediate",
              "transition": {
               "duration": 0,
               "easing": "linear"
              }
             }
            ],
            "label": "43",
            "method": "animate"
           },
           {
            "args": [
             [
              "44"
             ],
             {
              "frame": {
               "duration": 0,
               "redraw": true
              },
              "fromcurrent": true,
              "mode": "immediate",
              "transition": {
               "duration": 0,
               "easing": "linear"
              }
             }
            ],
            "label": "44",
            "method": "animate"
           },
           {
            "args": [
             [
              "45"
             ],
             {
              "frame": {
               "duration": 0,
               "redraw": true
              },
              "fromcurrent": true,
              "mode": "immediate",
              "transition": {
               "duration": 0,
               "easing": "linear"
              }
             }
            ],
            "label": "45",
            "method": "animate"
           },
           {
            "args": [
             [
              "46"
             ],
             {
              "frame": {
               "duration": 0,
               "redraw": true
              },
              "fromcurrent": true,
              "mode": "immediate",
              "transition": {
               "duration": 0,
               "easing": "linear"
              }
             }
            ],
            "label": "46",
            "method": "animate"
           },
           {
            "args": [
             [
              "47"
             ],
             {
              "frame": {
               "duration": 0,
               "redraw": true
              },
              "fromcurrent": true,
              "mode": "immediate",
              "transition": {
               "duration": 0,
               "easing": "linear"
              }
             }
            ],
            "label": "47",
            "method": "animate"
           },
           {
            "args": [
             [
              "48"
             ],
             {
              "frame": {
               "duration": 0,
               "redraw": true
              },
              "fromcurrent": true,
              "mode": "immediate",
              "transition": {
               "duration": 0,
               "easing": "linear"
              }
             }
            ],
            "label": "48",
            "method": "animate"
           },
           {
            "args": [
             [
              "49"
             ],
             {
              "frame": {
               "duration": 0,
               "redraw": true
              },
              "fromcurrent": true,
              "mode": "immediate",
              "transition": {
               "duration": 0,
               "easing": "linear"
              }
             }
            ],
            "label": "49",
            "method": "animate"
           },
           {
            "args": [
             [
              "50"
             ],
             {
              "frame": {
               "duration": 0,
               "redraw": true
              },
              "fromcurrent": true,
              "mode": "immediate",
              "transition": {
               "duration": 0,
               "easing": "linear"
              }
             }
            ],
            "label": "50",
            "method": "animate"
           },
           {
            "args": [
             [
              "51"
             ],
             {
              "frame": {
               "duration": 0,
               "redraw": true
              },
              "fromcurrent": true,
              "mode": "immediate",
              "transition": {
               "duration": 0,
               "easing": "linear"
              }
             }
            ],
            "label": "51",
            "method": "animate"
           }
          ],
          "x": 0.1,
          "xanchor": "left",
          "y": 0,
          "yanchor": "top"
         }
        ],
        "template": {
         "data": {
          "bar": [
           {
            "error_x": {
             "color": "#2a3f5f"
            },
            "error_y": {
             "color": "#2a3f5f"
            },
            "marker": {
             "line": {
              "color": "#E5ECF6",
              "width": 0.5
             },
             "pattern": {
              "fillmode": "overlay",
              "size": 10,
              "solidity": 0.2
             }
            },
            "type": "bar"
           }
          ],
          "barpolar": [
           {
            "marker": {
             "line": {
              "color": "#E5ECF6",
              "width": 0.5
             },
             "pattern": {
              "fillmode": "overlay",
              "size": 10,
              "solidity": 0.2
             }
            },
            "type": "barpolar"
           }
          ],
          "carpet": [
           {
            "aaxis": {
             "endlinecolor": "#2a3f5f",
             "gridcolor": "white",
             "linecolor": "white",
             "minorgridcolor": "white",
             "startlinecolor": "#2a3f5f"
            },
            "baxis": {
             "endlinecolor": "#2a3f5f",
             "gridcolor": "white",
             "linecolor": "white",
             "minorgridcolor": "white",
             "startlinecolor": "#2a3f5f"
            },
            "type": "carpet"
           }
          ],
          "choropleth": [
           {
            "colorbar": {
             "outlinewidth": 0,
             "ticks": ""
            },
            "type": "choropleth"
           }
          ],
          "contour": [
           {
            "colorbar": {
             "outlinewidth": 0,
             "ticks": ""
            },
            "colorscale": [
             [
              0,
              "#0d0887"
             ],
             [
              0.1111111111111111,
              "#46039f"
             ],
             [
              0.2222222222222222,
              "#7201a8"
             ],
             [
              0.3333333333333333,
              "#9c179e"
             ],
             [
              0.4444444444444444,
              "#bd3786"
             ],
             [
              0.5555555555555556,
              "#d8576b"
             ],
             [
              0.6666666666666666,
              "#ed7953"
             ],
             [
              0.7777777777777778,
              "#fb9f3a"
             ],
             [
              0.8888888888888888,
              "#fdca26"
             ],
             [
              1,
              "#f0f921"
             ]
            ],
            "type": "contour"
           }
          ],
          "contourcarpet": [
           {
            "colorbar": {
             "outlinewidth": 0,
             "ticks": ""
            },
            "type": "contourcarpet"
           }
          ],
          "heatmap": [
           {
            "colorbar": {
             "outlinewidth": 0,
             "ticks": ""
            },
            "colorscale": [
             [
              0,
              "#0d0887"
             ],
             [
              0.1111111111111111,
              "#46039f"
             ],
             [
              0.2222222222222222,
              "#7201a8"
             ],
             [
              0.3333333333333333,
              "#9c179e"
             ],
             [
              0.4444444444444444,
              "#bd3786"
             ],
             [
              0.5555555555555556,
              "#d8576b"
             ],
             [
              0.6666666666666666,
              "#ed7953"
             ],
             [
              0.7777777777777778,
              "#fb9f3a"
             ],
             [
              0.8888888888888888,
              "#fdca26"
             ],
             [
              1,
              "#f0f921"
             ]
            ],
            "type": "heatmap"
           }
          ],
          "heatmapgl": [
           {
            "colorbar": {
             "outlinewidth": 0,
             "ticks": ""
            },
            "colorscale": [
             [
              0,
              "#0d0887"
             ],
             [
              0.1111111111111111,
              "#46039f"
             ],
             [
              0.2222222222222222,
              "#7201a8"
             ],
             [
              0.3333333333333333,
              "#9c179e"
             ],
             [
              0.4444444444444444,
              "#bd3786"
             ],
             [
              0.5555555555555556,
              "#d8576b"
             ],
             [
              0.6666666666666666,
              "#ed7953"
             ],
             [
              0.7777777777777778,
              "#fb9f3a"
             ],
             [
              0.8888888888888888,
              "#fdca26"
             ],
             [
              1,
              "#f0f921"
             ]
            ],
            "type": "heatmapgl"
           }
          ],
          "histogram": [
           {
            "marker": {
             "pattern": {
              "fillmode": "overlay",
              "size": 10,
              "solidity": 0.2
             }
            },
            "type": "histogram"
           }
          ],
          "histogram2d": [
           {
            "colorbar": {
             "outlinewidth": 0,
             "ticks": ""
            },
            "colorscale": [
             [
              0,
              "#0d0887"
             ],
             [
              0.1111111111111111,
              "#46039f"
             ],
             [
              0.2222222222222222,
              "#7201a8"
             ],
             [
              0.3333333333333333,
              "#9c179e"
             ],
             [
              0.4444444444444444,
              "#bd3786"
             ],
             [
              0.5555555555555556,
              "#d8576b"
             ],
             [
              0.6666666666666666,
              "#ed7953"
             ],
             [
              0.7777777777777778,
              "#fb9f3a"
             ],
             [
              0.8888888888888888,
              "#fdca26"
             ],
             [
              1,
              "#f0f921"
             ]
            ],
            "type": "histogram2d"
           }
          ],
          "histogram2dcontour": [
           {
            "colorbar": {
             "outlinewidth": 0,
             "ticks": ""
            },
            "colorscale": [
             [
              0,
              "#0d0887"
             ],
             [
              0.1111111111111111,
              "#46039f"
             ],
             [
              0.2222222222222222,
              "#7201a8"
             ],
             [
              0.3333333333333333,
              "#9c179e"
             ],
             [
              0.4444444444444444,
              "#bd3786"
             ],
             [
              0.5555555555555556,
              "#d8576b"
             ],
             [
              0.6666666666666666,
              "#ed7953"
             ],
             [
              0.7777777777777778,
              "#fb9f3a"
             ],
             [
              0.8888888888888888,
              "#fdca26"
             ],
             [
              1,
              "#f0f921"
             ]
            ],
            "type": "histogram2dcontour"
           }
          ],
          "mesh3d": [
           {
            "colorbar": {
             "outlinewidth": 0,
             "ticks": ""
            },
            "type": "mesh3d"
           }
          ],
          "parcoords": [
           {
            "line": {
             "colorbar": {
              "outlinewidth": 0,
              "ticks": ""
             }
            },
            "type": "parcoords"
           }
          ],
          "pie": [
           {
            "automargin": true,
            "type": "pie"
           }
          ],
          "scatter": [
           {
            "fillpattern": {
             "fillmode": "overlay",
             "size": 10,
             "solidity": 0.2
            },
            "type": "scatter"
           }
          ],
          "scatter3d": [
           {
            "line": {
             "colorbar": {
              "outlinewidth": 0,
              "ticks": ""
             }
            },
            "marker": {
             "colorbar": {
              "outlinewidth": 0,
              "ticks": ""
             }
            },
            "type": "scatter3d"
           }
          ],
          "scattercarpet": [
           {
            "marker": {
             "colorbar": {
              "outlinewidth": 0,
              "ticks": ""
             }
            },
            "type": "scattercarpet"
           }
          ],
          "scattergeo": [
           {
            "marker": {
             "colorbar": {
              "outlinewidth": 0,
              "ticks": ""
             }
            },
            "type": "scattergeo"
           }
          ],
          "scattergl": [
           {
            "marker": {
             "colorbar": {
              "outlinewidth": 0,
              "ticks": ""
             }
            },
            "type": "scattergl"
           }
          ],
          "scattermapbox": [
           {
            "marker": {
             "colorbar": {
              "outlinewidth": 0,
              "ticks": ""
             }
            },
            "type": "scattermapbox"
           }
          ],
          "scatterpolar": [
           {
            "marker": {
             "colorbar": {
              "outlinewidth": 0,
              "ticks": ""
             }
            },
            "type": "scatterpolar"
           }
          ],
          "scatterpolargl": [
           {
            "marker": {
             "colorbar": {
              "outlinewidth": 0,
              "ticks": ""
             }
            },
            "type": "scatterpolargl"
           }
          ],
          "scatterternary": [
           {
            "marker": {
             "colorbar": {
              "outlinewidth": 0,
              "ticks": ""
             }
            },
            "type": "scatterternary"
           }
          ],
          "surface": [
           {
            "colorbar": {
             "outlinewidth": 0,
             "ticks": ""
            },
            "colorscale": [
             [
              0,
              "#0d0887"
             ],
             [
              0.1111111111111111,
              "#46039f"
             ],
             [
              0.2222222222222222,
              "#7201a8"
             ],
             [
              0.3333333333333333,
              "#9c179e"
             ],
             [
              0.4444444444444444,
              "#bd3786"
             ],
             [
              0.5555555555555556,
              "#d8576b"
             ],
             [
              0.6666666666666666,
              "#ed7953"
             ],
             [
              0.7777777777777778,
              "#fb9f3a"
             ],
             [
              0.8888888888888888,
              "#fdca26"
             ],
             [
              1,
              "#f0f921"
             ]
            ],
            "type": "surface"
           }
          ],
          "table": [
           {
            "cells": {
             "fill": {
              "color": "#EBF0F8"
             },
             "line": {
              "color": "white"
             }
            },
            "header": {
             "fill": {
              "color": "#C8D4E3"
             },
             "line": {
              "color": "white"
             }
            },
            "type": "table"
           }
          ]
         },
         "layout": {
          "annotationdefaults": {
           "arrowcolor": "#2a3f5f",
           "arrowhead": 0,
           "arrowwidth": 1
          },
          "autotypenumbers": "strict",
          "coloraxis": {
           "colorbar": {
            "outlinewidth": 0,
            "ticks": ""
           }
          },
          "colorscale": {
           "diverging": [
            [
             0,
             "#8e0152"
            ],
            [
             0.1,
             "#c51b7d"
            ],
            [
             0.2,
             "#de77ae"
            ],
            [
             0.3,
             "#f1b6da"
            ],
            [
             0.4,
             "#fde0ef"
            ],
            [
             0.5,
             "#f7f7f7"
            ],
            [
             0.6,
             "#e6f5d0"
            ],
            [
             0.7,
             "#b8e186"
            ],
            [
             0.8,
             "#7fbc41"
            ],
            [
             0.9,
             "#4d9221"
            ],
            [
             1,
             "#276419"
            ]
           ],
           "sequential": [
            [
             0,
             "#0d0887"
            ],
            [
             0.1111111111111111,
             "#46039f"
            ],
            [
             0.2222222222222222,
             "#7201a8"
            ],
            [
             0.3333333333333333,
             "#9c179e"
            ],
            [
             0.4444444444444444,
             "#bd3786"
            ],
            [
             0.5555555555555556,
             "#d8576b"
            ],
            [
             0.6666666666666666,
             "#ed7953"
            ],
            [
             0.7777777777777778,
             "#fb9f3a"
            ],
            [
             0.8888888888888888,
             "#fdca26"
            ],
            [
             1,
             "#f0f921"
            ]
           ],
           "sequentialminus": [
            [
             0,
             "#0d0887"
            ],
            [
             0.1111111111111111,
             "#46039f"
            ],
            [
             0.2222222222222222,
             "#7201a8"
            ],
            [
             0.3333333333333333,
             "#9c179e"
            ],
            [
             0.4444444444444444,
             "#bd3786"
            ],
            [
             0.5555555555555556,
             "#d8576b"
            ],
            [
             0.6666666666666666,
             "#ed7953"
            ],
            [
             0.7777777777777778,
             "#fb9f3a"
            ],
            [
             0.8888888888888888,
             "#fdca26"
            ],
            [
             1,
             "#f0f921"
            ]
           ]
          },
          "colorway": [
           "#636efa",
           "#EF553B",
           "#00cc96",
           "#ab63fa",
           "#FFA15A",
           "#19d3f3",
           "#FF6692",
           "#B6E880",
           "#FF97FF",
           "#FECB52"
          ],
          "font": {
           "color": "#2a3f5f"
          },
          "geo": {
           "bgcolor": "white",
           "lakecolor": "white",
           "landcolor": "#E5ECF6",
           "showlakes": true,
           "showland": true,
           "subunitcolor": "white"
          },
          "hoverlabel": {
           "align": "left"
          },
          "hovermode": "closest",
          "mapbox": {
           "style": "light"
          },
          "paper_bgcolor": "white",
          "plot_bgcolor": "#E5ECF6",
          "polar": {
           "angularaxis": {
            "gridcolor": "white",
            "linecolor": "white",
            "ticks": ""
           },
           "bgcolor": "#E5ECF6",
           "radialaxis": {
            "gridcolor": "white",
            "linecolor": "white",
            "ticks": ""
           }
          },
          "scene": {
           "xaxis": {
            "backgroundcolor": "#E5ECF6",
            "gridcolor": "white",
            "gridwidth": 2,
            "linecolor": "white",
            "showbackground": true,
            "ticks": "",
            "zerolinecolor": "white"
           },
           "yaxis": {
            "backgroundcolor": "#E5ECF6",
            "gridcolor": "white",
            "gridwidth": 2,
            "linecolor": "white",
            "showbackground": true,
            "ticks": "",
            "zerolinecolor": "white"
           },
           "zaxis": {
            "backgroundcolor": "#E5ECF6",
            "gridcolor": "white",
            "gridwidth": 2,
            "linecolor": "white",
            "showbackground": true,
            "ticks": "",
            "zerolinecolor": "white"
           }
          },
          "shapedefaults": {
           "line": {
            "color": "#2a3f5f"
           }
          },
          "ternary": {
           "aaxis": {
            "gridcolor": "white",
            "linecolor": "white",
            "ticks": ""
           },
           "baxis": {
            "gridcolor": "white",
            "linecolor": "white",
            "ticks": ""
           },
           "bgcolor": "#E5ECF6",
           "caxis": {
            "gridcolor": "white",
            "linecolor": "white",
            "ticks": ""
           }
          },
          "title": {
           "x": 0.05
          },
          "xaxis": {
           "automargin": true,
           "gridcolor": "white",
           "linecolor": "white",
           "ticks": "",
           "title": {
            "standoff": 15
           },
           "zerolinecolor": "white",
           "zerolinewidth": 2
          },
          "yaxis": {
           "automargin": true,
           "gridcolor": "white",
           "linecolor": "white",
           "ticks": "",
           "title": {
            "standoff": 15
           },
           "zerolinecolor": "white",
           "zerolinewidth": 2
          }
         }
        },
        "updatemenus": [
         {
          "buttons": [
           {
            "args": [
             null,
             {
              "frame": {
               "duration": 500,
               "redraw": true
              },
              "fromcurrent": true,
              "mode": "immediate",
              "transition": {
               "duration": 500,
               "easing": "linear"
              }
             }
            ],
            "label": "&#9654;",
            "method": "animate"
           },
           {
            "args": [
             [
              null
             ],
             {
              "frame": {
               "duration": 0,
               "redraw": true
              },
              "fromcurrent": true,
              "mode": "immediate",
              "transition": {
               "duration": 0,
               "easing": "linear"
              }
             }
            ],
            "label": "&#9724;",
            "method": "animate"
           }
          ],
          "direction": "left",
          "pad": {
           "r": 10,
           "t": 70
          },
          "showactive": false,
          "type": "buttons",
          "x": 0.1,
          "xanchor": "right",
          "y": 0,
          "yanchor": "top"
         }
        ],
        "width": 500
       }
      }
     },
     "metadata": {},
     "output_type": "display_data"
    }
   ],
   "source": [
    "week_orders=[]\n",
    "for i in range(53):\n",
    "    week_orders.append(i)\n",
    "    \n",
    "fig = px.density_mapbox(df4[df4['verbatimScientificName']=='Vireo flavoviridis'], lat='decimalLatitude', lon='decimalLongitude', z='individualCount' ,radius=10,\n",
    "                        center=dict(lat=4.862437, lon=-74.058655), zoom=3.8,\n",
    "                        mapbox_style=\"carto-positron\",animation_frame=\"week\",category_orders={\"week\": week_orders})\n",
    "\n",
    "annotations = [dict(\n",
    "showarrow=False,\n",
    "align=\"right\",\n",
    "text=\"\",\n",
    "font=dict(color=\"#000000\"),\n",
    "bgcolor=\"#f9f9f9\",\n",
    "x=0.95,\n",
    "y=0.95,\n",
    ")]   \n",
    "\n",
    "fig.update_layout(\n",
    "geo_scope='south america',\n",
    "annotations=annotations,\n",
    "height=400,\n",
    "width=500,\n",
    "margin={\"r\":0,\"t\":0,\"l\":0,\"b\":0})\n",
    "fig.show()"
   ]
  }
 ],
 "metadata": {
  "kernelspec": {
   "display_name": "Python 3 (ipykernel)",
   "language": "python",
   "name": "python3"
  },
  "language_info": {
   "codemirror_mode": {
    "name": "ipython",
    "version": 3
   },
   "file_extension": ".py",
   "mimetype": "text/x-python",
   "name": "python",
   "nbconvert_exporter": "python",
   "pygments_lexer": "ipython3",
   "version": "3.9.13"
  }
 },
 "nbformat": 4,
 "nbformat_minor": 5
}
